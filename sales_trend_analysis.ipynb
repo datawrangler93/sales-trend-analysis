{
 "cells": [
  {
   "cell_type": "markdown",
   "id": "5aa1fde4",
   "metadata": {},
   "source": [
    "# 📊 Sales Trend Analysis and Forecast\n",
    "This notebook analyzes monthly sales data and forecasts the next 3 months."
   ]
  },
  {
   "cell_type": "code",
   "execution_count": null,
   "id": "4c0aa340",
   "metadata": {},
   "outputs": [],
   "source": [
    "import pandas as pd\n",
    "import matplotlib.pyplot as plt\n",
    "from statsmodels.tsa.holtwinters import ExponentialSmoothing\n",
    "import ipywidgets"
   ]
  },
  {
   "cell_type": "markdown",
   "id": "92a4b9fe",
   "metadata": {},
   "source": [
    "## 🔄 Load the Sales Data"
   ]
  },
  {
   "cell_type": "code",
   "execution_count": null,
   "id": "4b041df0",
   "metadata": {},
   "outputs": [],
   "source": [
    "df = pd.read_csv('sales_data_template.csv')\n",
    "df['OrderDate'] = pd.to_datetime(df['OrderDate'])\n",
    "df.head()"
   ]
  },
  {
   "cell_type": "markdown",
   "id": "46cf0448",
   "metadata": {},
   "source": [
    "## 📅 Prepare Monthly Sales Summary"
   ]
  },
  {
   "cell_type": "code",
   "execution_count": null,
   "id": "2b57af9a",
   "metadata": {},
   "outputs": [],
   "source": [
    "df['Month'] = df['OrderDate'].dt.to_period('M')\n",
    "monthly_sales = df.groupby('Month')['SalesAmount'].sum().reset_index()\n",
    "monthly_sales['Month'] = monthly_sales['Month'].dt.to_timestamp()\n",
    "monthly_sales.head()"
   ]
  },
  {
   "cell_type": "markdown",
   "id": "967276a0",
   "metadata": {},
   "source": [
    "## 📈 Plot Monthly Sales Trend"
   ]
  },
  {
   "cell_type": "code",
   "execution_count": null,
   "id": "571ca646",
   "metadata": {
    "scrolled": true
   },
   "outputs": [],
   "source": [
    "plt.figure(figsize=(10, 5))\n",
    "plt.plot(monthly_sales['Month'], monthly_sales['SalesAmount'], marker='o')\n",
    "plt.title('Monthly Sales Trend')\n",
    "plt.xlabel('Month')\n",
    "plt.ylabel('Sales Amount')\n",
    "plt.xticks(rotation=45)\n",
    "plt.tight_layout()\n",
    "plt.grid(True)\n",
    "plt.show()"
   ]
  },
  {
   "cell_type": "markdown",
   "id": "8b39580d",
   "metadata": {},
   "source": [
    "## 🔮 Forecast Next 3 Months"
   ]
  },
  {
   "cell_type": "code",
   "execution_count": null,
   "id": "bd2060fd",
   "metadata": {},
   "outputs": [],
   "source": [
    "model = ExponentialSmoothing(monthly_sales['SalesAmount'], trend='add', seasonal='add', seasonal_periods=4).fit()\n",
    "forecast = model.forecast(3)\n",
    "print('\\n📈 Forecast for next 3 months:')\n",
    "print(forecast)"
   ]
  },
  {
   "cell_type": "code",
   "execution_count": null,
   "id": "9307c6c1-28d7-41ff-8f25-1740eb16a1ba",
   "metadata": {},
   "outputs": [],
   "source": [
    "forecast_df = pd.DataFrame({\n",
    "    'Month': pd.date_range(start=monthly_sales['Month'].iloc[-1] + pd.DateOffset(months=1), periods=3, freq='MS'),\n",
    "    'ForecastedSales': forecast\n",
    "})\n",
    "\n",
    "forecast_df.to_excel(\"forecast_next_3_months.xlsx\", index=False)\n",
    "print(\"✅ Forecast exported to forecast_next_3_months.xlsx\")"
   ]
  },
  {
   "cell_type": "code",
   "execution_count": null,
   "id": "317c48a9-8030-40de-9287-2af9c4294499",
   "metadata": {
    "scrolled": true
   },
   "outputs": [],
   "source": [
    "import matplotlib.pyplot as plt\n",
    "\n",
    "# Plot original data\n",
    "plt.figure(figsize=(10, 5))\n",
    "plt.plot(monthly_sales['Month'], monthly_sales['SalesAmount'], label='Historical Sales', marker='o')\n",
    "\n",
    "# Plot forecast data\n",
    "plt.plot(forecast_df['Month'], forecast_df['ForecastedSales'], label='Forecasted Sales', marker='x', linestyle='--')\n",
    "\n",
    "plt.title('Monthly Sales with 3-Month Forecast')\n",
    "plt.xlabel('Month')\n",
    "plt.ylabel('Sales Amount')\n",
    "plt.legend()\n",
    "plt.grid(True)\n",
    "plt.xticks(rotation=45)\n",
    "plt.tight_layout()\n",
    "plt.show()"
   ]
  },
  {
   "cell_type": "code",
   "execution_count": null,
   "id": "8b96b109-ad33-4397-b659-41ad4f3e5b6f",
   "metadata": {},
   "outputs": [],
   "source": []
  },
  {
   "cell_type": "code",
   "execution_count": null,
   "id": "13a12022-5c55-4351-a780-56489d37486a",
   "metadata": {},
   "outputs": [],
   "source": []
  }
 ],
 "metadata": {
  "kernelspec": {
   "display_name": "Python 3 (ipykernel)",
   "language": "python",
   "name": "python3"
  },
  "language_info": {
   "codemirror_mode": {
    "name": "ipython",
    "version": 3
   },
   "file_extension": ".py",
   "mimetype": "text/x-python",
   "name": "python",
   "nbconvert_exporter": "python",
   "pygments_lexer": "ipython3",
   "version": "3.13.5"
  }
 },
 "nbformat": 4,
 "nbformat_minor": 5
}
